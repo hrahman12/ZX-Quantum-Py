{
  "nbformat": 4,
  "nbformat_minor": 0,
  "metadata": {
    "colab": {
      "provenance": []
    },
    "kernelspec": {
      "name": "python3",
      "display_name": "Python 3"
    },
    "language_info": {
      "name": "python"
    }
  },
  "cells": [
    {
      "cell_type": "code",
      "execution_count": 1,
      "metadata": {
        "colab": {
          "base_uri": "https://localhost:8080/"
        },
        "id": "AI4JA0h97TUg",
        "outputId": "75f819c0-aa12-42e5-9987-1ad850fd5321"
      },
      "outputs": [
        {
          "output_type": "stream",
          "name": "stdout",
          "text": [
            "Hello World!\n"
          ]
        }
      ],
      "source": [
        "print(\"Hello World!\")"
      ]
    },
    {
      "cell_type": "code",
      "source": [
        "print(1)"
      ],
      "metadata": {
        "colab": {
          "base_uri": "https://localhost:8080/"
        },
        "id": "KRCK9jRk8b-i",
        "outputId": "c0b9c96e-8b32-4b1b-8f07-1aa7602a5e05"
      },
      "execution_count": 2,
      "outputs": [
        {
          "output_type": "stream",
          "name": "stdout",
          "text": [
            "1\n"
          ]
        }
      ]
    },
    {
      "cell_type": "code",
      "source": [
        "type(\"Hello World\")"
      ],
      "metadata": {
        "colab": {
          "base_uri": "https://localhost:8080/"
        },
        "id": "bao0YQ9r8vTR",
        "outputId": "5863fbab-681b-4d77-943d-2ddb2848457d"
      },
      "execution_count": 3,
      "outputs": [
        {
          "output_type": "execute_result",
          "data": {
            "text/plain": [
              "str"
            ]
          },
          "metadata": {},
          "execution_count": 3
        }
      ]
    },
    {
      "cell_type": "code",
      "source": [
        "type(43)"
      ],
      "metadata": {
        "colab": {
          "base_uri": "https://localhost:8080/"
        },
        "id": "oTOhrE6I9Zc5",
        "outputId": "f4dedc1e-35ac-43cd-b66e-60773edfb61c"
      },
      "execution_count": 4,
      "outputs": [
        {
          "output_type": "execute_result",
          "data": {
            "text/plain": [
              "int"
            ]
          },
          "metadata": {},
          "execution_count": 4
        }
      ]
    },
    {
      "cell_type": "code",
      "source": [
        "type(5.9)"
      ],
      "metadata": {
        "colab": {
          "base_uri": "https://localhost:8080/"
        },
        "id": "CnG9NdG59cs7",
        "outputId": "84e40031-9edb-4e9d-f5a3-0d70eff18e8d"
      },
      "execution_count": 5,
      "outputs": [
        {
          "output_type": "execute_result",
          "data": {
            "text/plain": [
              "float"
            ]
          },
          "metadata": {},
          "execution_count": 5
        }
      ]
    },
    {
      "cell_type": "code",
      "source": [
        "type('43')"
      ],
      "metadata": {
        "colab": {
          "base_uri": "https://localhost:8080/"
        },
        "id": "gqHgKBVd9eyA",
        "outputId": "d5a57085-6ea5-4282-f8d2-d44a1d582c0b"
      },
      "execution_count": 6,
      "outputs": [
        {
          "output_type": "execute_result",
          "data": {
            "text/plain": [
              "str"
            ]
          },
          "metadata": {},
          "execution_count": 6
        }
      ]
    },
    {
      "cell_type": "code",
      "source": [
        "type('5.9')"
      ],
      "metadata": {
        "colab": {
          "base_uri": "https://localhost:8080/"
        },
        "id": "GPjHpsaz9kca",
        "outputId": "112ae79f-a0f4-437a-d580-7edae9ef01ac"
      },
      "execution_count": 7,
      "outputs": [
        {
          "output_type": "execute_result",
          "data": {
            "text/plain": [
              "str"
            ]
          },
          "metadata": {},
          "execution_count": 7
        }
      ]
    },
    {
      "cell_type": "code",
      "source": [
        "greeting = \"Hello, my friend!\"\n",
        "age = 16\n",
        "pi_value = 3.1415926535897931"
      ],
      "metadata": {
        "id": "JPvCNJu-9mgv"
      },
      "execution_count": 8,
      "outputs": []
    },
    {
      "cell_type": "code",
      "source": [
        "print(age)"
      ],
      "metadata": {
        "colab": {
          "base_uri": "https://localhost:8080/"
        },
        "id": "NTzjz00e9924",
        "outputId": "d3a0457f-066d-46c4-824a-55afc5834c94"
      },
      "execution_count": 9,
      "outputs": [
        {
          "output_type": "stream",
          "name": "stdout",
          "text": [
            "16\n"
          ]
        }
      ]
    },
    {
      "cell_type": "code",
      "source": [
        "print(pi_value)"
      ],
      "metadata": {
        "colab": {
          "base_uri": "https://localhost:8080/"
        },
        "id": "UNe_WFDb-AvF",
        "outputId": "fe3bf0b2-034e-45ce-9147-66f66d88c656"
      },
      "execution_count": 10,
      "outputs": [
        {
          "output_type": "stream",
          "name": "stdout",
          "text": [
            "3.141592653589793\n"
          ]
        }
      ]
    },
    {
      "cell_type": "code",
      "source": [
        "type(greeting)"
      ],
      "metadata": {
        "colab": {
          "base_uri": "https://localhost:8080/"
        },
        "id": "jfQDeZ0e-DWx",
        "outputId": "74d08206-d2d2-44fd-bbdf-31658a0654f4"
      },
      "execution_count": 11,
      "outputs": [
        {
          "output_type": "execute_result",
          "data": {
            "text/plain": [
              "str"
            ]
          },
          "metadata": {},
          "execution_count": 11
        }
      ]
    },
    {
      "cell_type": "code",
      "source": [
        "type(age)"
      ],
      "metadata": {
        "colab": {
          "base_uri": "https://localhost:8080/"
        },
        "id": "35hA23Rq-Kam",
        "outputId": "c282a5dd-5f22-482e-d157-074386293103"
      },
      "execution_count": 12,
      "outputs": [
        {
          "output_type": "execute_result",
          "data": {
            "text/plain": [
              "int"
            ]
          },
          "metadata": {},
          "execution_count": 12
        }
      ]
    },
    {
      "cell_type": "code",
      "source": [
        "type(pi_value)"
      ],
      "metadata": {
        "colab": {
          "base_uri": "https://localhost:8080/"
        },
        "id": "kSAjYJKD-Myt",
        "outputId": "ff4059df-be45-4c41-89d8-09f18ce5bbfd"
      },
      "execution_count": 13,
      "outputs": [
        {
          "output_type": "execute_result",
          "data": {
            "text/plain": [
              "float"
            ]
          },
          "metadata": {},
          "execution_count": 13
        }
      ]
    },
    {
      "cell_type": "code",
      "source": [
        "print(1)\n",
        "x = 2\n",
        "print(x)"
      ],
      "metadata": {
        "colab": {
          "base_uri": "https://localhost:8080/"
        },
        "id": "v5abW_nb-aWV",
        "outputId": "b05fb28f-61a7-4802-b7f6-dd2dbfa11d5b"
      },
      "execution_count": 14,
      "outputs": [
        {
          "output_type": "stream",
          "name": "stdout",
          "text": [
            "1\n",
            "2\n"
          ]
        }
      ]
    },
    {
      "cell_type": "code",
      "source": [
        "25 + 34\n",
        "55-35\n",
        "5*3\n",
        "10/2\n",
        "5**2"
      ],
      "metadata": {
        "colab": {
          "base_uri": "https://localhost:8080/"
        },
        "id": "TekGxc6q-okL",
        "outputId": "022db226-72c8-4a06-e8c2-da139e11fb8c"
      },
      "execution_count": 15,
      "outputs": [
        {
          "output_type": "execute_result",
          "data": {
            "text/plain": [
              "25"
            ]
          },
          "metadata": {},
          "execution_count": 15
        }
      ]
    },
    {
      "cell_type": "code",
      "source": [
        "x = 40\n",
        "x//5"
      ],
      "metadata": {
        "colab": {
          "base_uri": "https://localhost:8080/"
        },
        "id": "w9khLFp_-xbX",
        "outputId": "a1a28d87-5fa9-474a-bf65-19a5e955dd9d"
      },
      "execution_count": 16,
      "outputs": [
        {
          "output_type": "execute_result",
          "data": {
            "text/plain": [
              "8"
            ]
          },
          "metadata": {},
          "execution_count": 16
        }
      ]
    },
    {
      "cell_type": "code",
      "source": [
        "17\n",
        "x\n",
        "x + 17"
      ],
      "metadata": {
        "colab": {
          "base_uri": "https://localhost:8080/"
        },
        "id": "cDk3aNK5-1wR",
        "outputId": "d8199555-cb19-466d-fc10-83d9767d5117"
      },
      "execution_count": 17,
      "outputs": [
        {
          "output_type": "execute_result",
          "data": {
            "text/plain": [
              "57"
            ]
          },
          "metadata": {},
          "execution_count": 17
        }
      ]
    },
    {
      "cell_type": "code",
      "source": [
        "a = '100'\n",
        "b = '200'\n",
        "print(a+b)"
      ],
      "metadata": {
        "colab": {
          "base_uri": "https://localhost:8080/"
        },
        "id": "_gL9pv1V_SSF",
        "outputId": "96cb9b8e-ac02-4933-8d67-d259686fc163"
      },
      "execution_count": 18,
      "outputs": [
        {
          "output_type": "stream",
          "name": "stdout",
          "text": [
            "100200\n"
          ]
        }
      ]
    },
    {
      "cell_type": "code",
      "source": [
        "a = 'Hello '\n",
        "b = 3\n",
        "print(a * b)"
      ],
      "metadata": {
        "colab": {
          "base_uri": "https://localhost:8080/"
        },
        "id": "ly5pfE7g_b3P",
        "outputId": "b2d8d887-4ab8-4a50-95fb-9603db76a133"
      },
      "execution_count": 19,
      "outputs": [
        {
          "output_type": "stream",
          "name": "stdout",
          "text": [
            "Hello Hello Hello \n"
          ]
        }
      ]
    },
    {
      "cell_type": "code",
      "source": [
        "name = input(\"What is your name?\\n\")"
      ],
      "metadata": {
        "colab": {
          "base_uri": "https://localhost:8080/"
        },
        "id": "jvxv5KEj_n_h",
        "outputId": "0f0801f9-6bef-41d2-d2a6-28693358b99e"
      },
      "execution_count": 20,
      "outputs": [
        {
          "name": "stdout",
          "output_type": "stream",
          "text": [
            "What is your name?\n",
            "hff\n"
          ]
        }
      ]
    },
    {
      "cell_type": "code",
      "source": [
        "print(name)"
      ],
      "metadata": {
        "colab": {
          "base_uri": "https://localhost:8080/"
        },
        "id": "QUGNTVHH_vCi",
        "outputId": "d31b6403-741d-45f7-b7c0-4c7d17037657"
      },
      "execution_count": null,
      "outputs": [
        {
          "output_type": "stream",
          "name": "stdout",
          "text": [
            "Hanah\n"
          ]
        }
      ]
    },
    {
      "cell_type": "code",
      "source": [
        "#find how many seconds are in a specific number of minutes\n",
        "minute = 60\n",
        "seconds = minute * 60\n",
        "print(seconds)"
      ],
      "metadata": {
        "colab": {
          "base_uri": "https://localhost:8080/"
        },
        "id": "qnsWJYYN_9DL",
        "outputId": "a1067527-eddd-4f8b-b612-138d0b01dd35"
      },
      "execution_count": 29,
      "outputs": [
        {
          "output_type": "stream",
          "name": "stdout",
          "text": [
            "3600\n"
          ]
        }
      ]
    },
    {
      "cell_type": "code",
      "source": [
        "5 == 5"
      ],
      "metadata": {
        "colab": {
          "base_uri": "https://localhost:8080/"
        },
        "id": "xw-fQVfaAIEb",
        "outputId": "c4c55b24-6bb9-4d7b-afd5-cac2b52ab67d"
      },
      "execution_count": null,
      "outputs": [
        {
          "output_type": "execute_result",
          "data": {
            "text/plain": [
              "True"
            ]
          },
          "metadata": {},
          "execution_count": 23
        }
      ]
    },
    {
      "cell_type": "code",
      "source": [
        "5 == 10"
      ],
      "metadata": {
        "colab": {
          "base_uri": "https://localhost:8080/"
        },
        "id": "l91TkU_VALqY",
        "outputId": "632aebce-6453-4bda-c405-bf11c45fe9a1"
      },
      "execution_count": null,
      "outputs": [
        {
          "output_type": "execute_result",
          "data": {
            "text/plain": [
              "False"
            ]
          },
          "metadata": {},
          "execution_count": 24
        }
      ]
    },
    {
      "cell_type": "code",
      "source": [
        "type(True)"
      ],
      "metadata": {
        "colab": {
          "base_uri": "https://localhost:8080/"
        },
        "id": "fOGqYX7aAN4f",
        "outputId": "13a3df17-fb6d-4d81-8d9c-9f9757eef93d"
      },
      "execution_count": null,
      "outputs": [
        {
          "output_type": "execute_result",
          "data": {
            "text/plain": [
              "bool"
            ]
          },
          "metadata": {},
          "execution_count": 25
        }
      ]
    },
    {
      "cell_type": "code",
      "source": [
        "type(False)"
      ],
      "metadata": {
        "colab": {
          "base_uri": "https://localhost:8080/"
        },
        "id": "h4VGH-eQAPkH",
        "outputId": "b62e3b4e-2138-431b-9a76-1ce3d49360f6"
      },
      "execution_count": null,
      "outputs": [
        {
          "output_type": "execute_result",
          "data": {
            "text/plain": [
              "bool"
            ]
          },
          "metadata": {},
          "execution_count": 26
        }
      ]
    },
    {
      "cell_type": "code",
      "source": [
        "x = 4\n",
        "x = 6\n",
        "x > y #x is greater than y\n",
        "x < y #x is less than y\n",
        "x >= y #x is greater than or equal to y\n",
        "x <= y #x is less than or equal to y\n",
        "x != y #x is not equal to y\n",
        "x is y #x is the same as y\n",
        "x is not y #x is not the same as y"
      ],
      "metadata": {
        "colab": {
          "base_uri": "https://localhost:8080/"
        },
        "id": "fyYMC4oIAWyr",
        "outputId": "1a1cf837-f73d-4491-c777-6489efa681eb"
      },
      "execution_count": 27,
      "outputs": [
        {
          "output_type": "execute_result",
          "data": {
            "text/plain": [
              "True"
            ]
          },
          "metadata": {},
          "execution_count": 27
        }
      ]
    },
    {
      "cell_type": "code",
      "source": [
        "n = 3\n",
        "x > 0 and x < 5\n",
        "n%2 == 0 or n%3 == 0\n",
        "not (x > y)"
      ],
      "metadata": {
        "id": "PF5R46bYA7vd",
        "colab": {
          "base_uri": "https://localhost:8080/"
        },
        "outputId": "202b09f0-2dc3-4adf-9fde-9abd2c9c155c"
      },
      "execution_count": 26,
      "outputs": [
        {
          "output_type": "execute_result",
          "data": {
            "text/plain": [
              "True"
            ]
          },
          "metadata": {},
          "execution_count": 26
        }
      ]
    },
    {
      "cell_type": "code",
      "source": [
        "if x < 5:\n",
        "  print(\"x is lower than 5\") #condition"
      ],
      "metadata": {
        "id": "s-wMX-eGBC0_"
      },
      "execution_count": null,
      "outputs": []
    },
    {
      "cell_type": "code",
      "source": [
        "if x%3 == 0:\n",
        "  print(\"x is divisible by 3\")\n",
        "else:\n",
        "  print(\"x is not divisible by 3\")"
      ],
      "metadata": {
        "colab": {
          "base_uri": "https://localhost:8080/"
        },
        "id": "E9AE5u8KBxvL",
        "outputId": "7253ee98-57f0-4174-8029-a863107a44ac"
      },
      "execution_count": null,
      "outputs": [
        {
          "output_type": "stream",
          "name": "stdout",
          "text": [
            "x is not divisible by 3\n"
          ]
        }
      ]
    },
    {
      "cell_type": "code",
      "source": [
        "x = 3\n",
        "y = 5\n",
        "if x < y:\n",
        "  print(\"x is less than y\")\n",
        "elif x > y:\n",
        "  print(\"x and y are equal\")\n",
        "else:\n",
        "  print(\"x and y are equal\")"
      ],
      "metadata": {
        "colab": {
          "base_uri": "https://localhost:8080/"
        },
        "id": "zGiKZGJgCDnR",
        "outputId": "41985988-ada7-4273-8826-4f4c457349ca"
      },
      "execution_count": 25,
      "outputs": [
        {
          "output_type": "stream",
          "name": "stdout",
          "text": [
            "x is less than y\n"
          ]
        }
      ]
    },
    {
      "cell_type": "code",
      "source": [
        "x = 2\n",
        "y = 2\n",
        "if x == y:\n",
        "  print(\"x and y are equal\")\n",
        "else:\n",
        "  if x < y:\n",
        "    print(\"x is less than y\")\n",
        "  else:\n",
        "    print(\"x is greater than y\")"
      ],
      "metadata": {
        "colab": {
          "base_uri": "https://localhost:8080/"
        },
        "id": "fTf90s5iCXvi",
        "outputId": "0850f380-03f7-431c-abc3-33e2b326d73b"
      },
      "execution_count": 24,
      "outputs": [
        {
          "output_type": "stream",
          "name": "stdout",
          "text": [
            "x and y are equal\n"
          ]
        }
      ]
    },
    {
      "cell_type": "code",
      "source": [
        "type(32)"
      ],
      "metadata": {
        "colab": {
          "base_uri": "https://localhost:8080/"
        },
        "id": "fSDQdlDxCu9x",
        "outputId": "4ee544a8-4f36-4d3d-d001-38b02ed5d3ed"
      },
      "execution_count": null,
      "outputs": [
        {
          "output_type": "execute_result",
          "data": {
            "text/plain": [
              "int"
            ]
          },
          "metadata": {},
          "execution_count": 33
        }
      ]
    },
    {
      "cell_type": "code",
      "source": [
        "max(\"Hello, World!\")"
      ],
      "metadata": {
        "colab": {
          "base_uri": "https://localhost:8080/",
          "height": 36
        },
        "id": "ZF3KFMDXC5Sf",
        "outputId": "9cfbf95c-9a37-4178-e6f8-1255553c691b"
      },
      "execution_count": null,
      "outputs": [
        {
          "output_type": "execute_result",
          "data": {
            "text/plain": [
              "'r'"
            ],
            "application/vnd.google.colaboratory.intrinsic+json": {
              "type": "string"
            }
          },
          "metadata": {},
          "execution_count": 34
        }
      ]
    },
    {
      "cell_type": "code",
      "source": [
        "min(\"Hello, World\")"
      ],
      "metadata": {
        "colab": {
          "base_uri": "https://localhost:8080/",
          "height": 36
        },
        "id": "g_wAKq_WDCWh",
        "outputId": "54ae4175-5770-4e16-dc35-386ba440ae7b"
      },
      "execution_count": null,
      "outputs": [
        {
          "output_type": "execute_result",
          "data": {
            "text/plain": [
              "' '"
            ],
            "application/vnd.google.colaboratory.intrinsic+json": {
              "type": "string"
            }
          },
          "metadata": {},
          "execution_count": 35
        }
      ]
    },
    {
      "cell_type": "code",
      "source": [
        "len(\"Hello, World!\")"
      ],
      "metadata": {
        "colab": {
          "base_uri": "https://localhost:8080/"
        },
        "id": "6TlZ8Av2FVxq",
        "outputId": "36e5734f-9e4e-4e6d-da5f-9ac765fe21e3"
      },
      "execution_count": null,
      "outputs": [
        {
          "output_type": "execute_result",
          "data": {
            "text/plain": [
              "13"
            ]
          },
          "metadata": {},
          "execution_count": 36
        }
      ]
    },
    {
      "cell_type": "code",
      "source": [
        "int(32)"
      ],
      "metadata": {
        "colab": {
          "base_uri": "https://localhost:8080/"
        },
        "id": "1ki3DIsYGMVy",
        "outputId": "e30f48b7-cebd-4c43-fb25-d01822d16f2f"
      },
      "execution_count": null,
      "outputs": [
        {
          "output_type": "execute_result",
          "data": {
            "text/plain": [
              "32"
            ]
          },
          "metadata": {},
          "execution_count": 37
        }
      ]
    },
    {
      "cell_type": "code",
      "source": [
        "int(5.998)"
      ],
      "metadata": {
        "colab": {
          "base_uri": "https://localhost:8080/"
        },
        "id": "jh96oBk4GQjg",
        "outputId": "981e5542-e46c-4c8c-86d5-dfc1ecce73e5"
      },
      "execution_count": null,
      "outputs": [
        {
          "output_type": "execute_result",
          "data": {
            "text/plain": [
              "5"
            ]
          },
          "metadata": {},
          "execution_count": 38
        }
      ]
    },
    {
      "cell_type": "code",
      "source": [
        "float(32)"
      ],
      "metadata": {
        "colab": {
          "base_uri": "https://localhost:8080/"
        },
        "id": "uMz_hpJoG8h2",
        "outputId": "6db924b8-ac6d-417a-c2b8-f8910bc13a5e"
      },
      "execution_count": null,
      "outputs": [
        {
          "output_type": "execute_result",
          "data": {
            "text/plain": [
              "32.0"
            ]
          },
          "metadata": {},
          "execution_count": 39
        }
      ]
    },
    {
      "cell_type": "code",
      "source": [
        "str(32)"
      ],
      "metadata": {
        "colab": {
          "base_uri": "https://localhost:8080/",
          "height": 36
        },
        "id": "sUw-C8tGG_zm",
        "outputId": "39e2dc86-2c85-4c7c-c80c-8eabd789b05d"
      },
      "execution_count": null,
      "outputs": [
        {
          "output_type": "execute_result",
          "data": {
            "text/plain": [
              "'32'"
            ],
            "application/vnd.google.colaboratory.intrinsic+json": {
              "type": "string"
            }
          },
          "metadata": {},
          "execution_count": 40
        }
      ]
    },
    {
      "cell_type": "code",
      "source": [
        "import math"
      ],
      "metadata": {
        "id": "ZrkuLD2bHBnC"
      },
      "execution_count": 31,
      "outputs": []
    },
    {
      "cell_type": "code",
      "source": [
        "signal_power = 10\n",
        "noise_power = 20\n",
        "ratio = signal_power / noise_power\n",
        "decibels = 10 * math.log10(ratio)\n",
        "print(decibels)"
      ],
      "metadata": {
        "colab": {
          "base_uri": "https://localhost:8080/"
        },
        "id": "76agrqaDHFGA",
        "outputId": "9f8ea23a-46c3-4f01-82c3-dd0e6b30cc0f"
      },
      "execution_count": 33,
      "outputs": [
        {
          "output_type": "stream",
          "name": "stdout",
          "text": [
            "-3.010299956639812\n"
          ]
        }
      ]
    },
    {
      "cell_type": "code",
      "source": [
        "import numpy as np"
      ],
      "metadata": {
        "id": "_WxrdHhcOQgI"
      },
      "execution_count": 34,
      "outputs": []
    },
    {
      "cell_type": "code",
      "source": [
        "import math\n",
        "\n",
        "radians = 0.7\n",
        "height = math.sin(radians)\n",
        "print(height)"
      ],
      "metadata": {
        "colab": {
          "base_uri": "https://localhost:8080/"
        },
        "id": "dhKjOfhVHq3r",
        "outputId": "d6d34f6f-283a-47ef-922e-f0c3a727f01c"
      },
      "execution_count": 37,
      "outputs": [
        {
          "output_type": "stream",
          "name": "stdout",
          "text": [
            "0.644217687237691\n"
          ]
        }
      ]
    },
    {
      "cell_type": "code",
      "source": [
        "degrees = 45\n",
        "radians = degrees / 360.0 * 2 * math.pi\n",
        "math.sin(radians)"
      ],
      "metadata": {
        "colab": {
          "base_uri": "https://localhost:8080/"
        },
        "id": "OYbhqwF8H2m0",
        "outputId": "825c0dee-220f-4da8-ae35-24a7c20128f5"
      },
      "execution_count": 38,
      "outputs": [
        {
          "output_type": "execute_result",
          "data": {
            "text/plain": [
              "0.7071067811865475"
            ]
          },
          "metadata": {},
          "execution_count": 38
        }
      ]
    },
    {
      "cell_type": "code",
      "source": [
        "import random\n",
        "\n",
        "for i in range(10):\n",
        "    x = random.random()\n",
        "    print(x)"
      ],
      "metadata": {
        "colab": {
          "base_uri": "https://localhost:8080/"
        },
        "id": "-_5gXzDmIPPj",
        "outputId": "8d8b13e7-3489-49bd-b456-0ccc9d293d53"
      },
      "execution_count": 39,
      "outputs": [
        {
          "output_type": "stream",
          "name": "stdout",
          "text": [
            "0.4845204029044695\n",
            "0.6572154586668031\n",
            "0.9323026944820266\n",
            "0.6315477142870686\n",
            "0.9053366608747551\n",
            "0.6103267135520253\n",
            "0.5375754652617637\n",
            "0.19272104397094625\n",
            "0.3989338871579541\n",
            "0.23962989010338187\n"
          ]
        }
      ]
    },
    {
      "cell_type": "code",
      "source": [
        "def printsonglyrics():\n",
        "  print(\"I see a little silhouetto of a man\")\n",
        "  print(\"Scaramouch, Scaramouch, will you do the Fandango!\")"
      ],
      "metadata": {
        "id": "V6f3hdlTIaab"
      },
      "execution_count": 40,
      "outputs": []
    },
    {
      "cell_type": "code",
      "source": [
        "x = 0\n",
        "x = x + 1"
      ],
      "metadata": {
        "id": "W_RgpY7FIuIQ"
      },
      "execution_count": 41,
      "outputs": []
    },
    {
      "cell_type": "code",
      "source": [
        "n = 3\n",
        "while n > 0:\n",
        "  print(n)\n",
        "  n = n-1\n",
        "print(\"Fire!\")"
      ],
      "metadata": {
        "id": "RIkFgwgyLutm",
        "colab": {
          "base_uri": "https://localhost:8080/"
        },
        "outputId": "a6cc23ad-c486-43fa-bf60-9812773e74b0"
      },
      "execution_count": 42,
      "outputs": [
        {
          "output_type": "stream",
          "name": "stdout",
          "text": [
            "3\n",
            "2\n",
            "1\n",
            "Fire!\n"
          ]
        }
      ]
    },
    {
      "cell_type": "code",
      "source": [
        "friends = [\"Rafaela\", \"Lucia\", \"Jose\"]\n",
        "for friend in friends:\n",
        "  print(\"Happy New Year:\", friend)\n",
        "print(\"Done!\")"
      ],
      "metadata": {
        "colab": {
          "base_uri": "https://localhost:8080/"
        },
        "id": "5_LraIGD3TmH",
        "outputId": "954cea0e-43ce-4c3f-ec84-21e7df21d9c4"
      },
      "execution_count": 43,
      "outputs": [
        {
          "output_type": "stream",
          "name": "stdout",
          "text": [
            "Happy New Year: Rafaela\n",
            "Happy New Year: Lucia\n",
            "Happy New Year: Jose\n",
            "Done!\n"
          ]
        }
      ]
    },
    {
      "cell_type": "code",
      "source": [
        "fruit = \"banana\"\n",
        "letter = fruit[1]"
      ],
      "metadata": {
        "id": "5KDJXFRT3h_M"
      },
      "execution_count": 44,
      "outputs": []
    },
    {
      "cell_type": "code",
      "source": [
        "print(letter)"
      ],
      "metadata": {
        "colab": {
          "base_uri": "https://localhost:8080/"
        },
        "id": "0YOxKm7H3tis",
        "outputId": "76f1b866-3c3b-4ee9-f930-74342e8cc35c"
      },
      "execution_count": 45,
      "outputs": [
        {
          "output_type": "stream",
          "name": "stdout",
          "text": [
            "a\n"
          ]
        }
      ]
    },
    {
      "cell_type": "code",
      "source": [
        "letter = fruit[0]\n",
        "print(letter)"
      ],
      "metadata": {
        "colab": {
          "base_uri": "https://localhost:8080/"
        },
        "id": "xreBjb2I3ypK",
        "outputId": "7b34afbc-b2d0-4449-9df3-4c0b02f0bbb1"
      },
      "execution_count": 46,
      "outputs": [
        {
          "output_type": "stream",
          "name": "stdout",
          "text": [
            "b\n"
          ]
        }
      ]
    },
    {
      "cell_type": "code",
      "source": [
        "fruit = \"banana\"\n",
        "len(fruit)"
      ],
      "metadata": {
        "colab": {
          "base_uri": "https://localhost:8080/"
        },
        "id": "AfiZpZ2D34oN",
        "outputId": "40737cce-b0f4-43d3-d511-b668a34ffd49"
      },
      "execution_count": 47,
      "outputs": [
        {
          "output_type": "execute_result",
          "data": {
            "text/plain": [
              "6"
            ]
          },
          "metadata": {},
          "execution_count": 47
        }
      ]
    },
    {
      "cell_type": "code",
      "source": [
        "fruit = \"banana\"\n",
        "last = fruit[-1]\n",
        "print(last)"
      ],
      "metadata": {
        "colab": {
          "base_uri": "https://localhost:8080/"
        },
        "id": "y7gC2y033-Km",
        "outputId": "4c8aa9d5-bfcf-4d59-f752-123d6f2d0de6"
      },
      "execution_count": 48,
      "outputs": [
        {
          "output_type": "stream",
          "name": "stdout",
          "text": [
            "a\n"
          ]
        }
      ]
    },
    {
      "cell_type": "code",
      "source": [
        "a = \"Maria Fernanda\"\n",
        "print(a[0:5])"
      ],
      "metadata": {
        "colab": {
          "base_uri": "https://localhost:8080/"
        },
        "id": "NZYbS8c94Cvb",
        "outputId": "709e9d63-6d2f-4ee0-e2c0-222f129b3583"
      },
      "execution_count": 49,
      "outputs": [
        {
          "output_type": "stream",
          "name": "stdout",
          "text": [
            "Maria\n"
          ]
        }
      ]
    },
    {
      "cell_type": "code",
      "source": [
        "fruit = \"banana\""
      ],
      "metadata": {
        "id": "xiAGjrQe4JrD"
      },
      "execution_count": 50,
      "outputs": []
    },
    {
      "cell_type": "code",
      "source": [
        "fruit[:3]"
      ],
      "metadata": {
        "colab": {
          "base_uri": "https://localhost:8080/",
          "height": 36
        },
        "id": "2a73H-zi4QbT",
        "outputId": "59cd29c3-1d34-4b17-e482-1b395260564d"
      },
      "execution_count": 51,
      "outputs": [
        {
          "output_type": "execute_result",
          "data": {
            "text/plain": [
              "'ban'"
            ],
            "application/vnd.google.colaboratory.intrinsic+json": {
              "type": "string"
            }
          },
          "metadata": {},
          "execution_count": 51
        }
      ]
    },
    {
      "cell_type": "code",
      "source": [
        "fruit[3:]"
      ],
      "metadata": {
        "colab": {
          "base_uri": "https://localhost:8080/",
          "height": 36
        },
        "id": "MNKcXgZP4Szc",
        "outputId": "89191556-65aa-45b7-fc00-ca26d7be9690"
      },
      "execution_count": 52,
      "outputs": [
        {
          "output_type": "execute_result",
          "data": {
            "text/plain": [
              "'ana'"
            ],
            "application/vnd.google.colaboratory.intrinsic+json": {
              "type": "string"
            }
          },
          "metadata": {},
          "execution_count": 52
        }
      ]
    },
    {
      "cell_type": "code",
      "source": [
        "\"a\" in \"banana\""
      ],
      "metadata": {
        "colab": {
          "base_uri": "https://localhost:8080/"
        },
        "id": "cGj5tcmX4Uub",
        "outputId": "3408c105-b371-4cf4-8f2d-6aa40de7fe4a"
      },
      "execution_count": 53,
      "outputs": [
        {
          "output_type": "execute_result",
          "data": {
            "text/plain": [
              "True"
            ]
          },
          "metadata": {},
          "execution_count": 53
        }
      ]
    },
    {
      "cell_type": "code",
      "source": [
        "\"z\" in \"banana\""
      ],
      "metadata": {
        "colab": {
          "base_uri": "https://localhost:8080/"
        },
        "id": "vJCvBcyT4bOM",
        "outputId": "313c2895-233d-40ed-8ef2-79627694491a"
      },
      "execution_count": 54,
      "outputs": [
        {
          "output_type": "execute_result",
          "data": {
            "text/plain": [
              "False"
            ]
          },
          "metadata": {},
          "execution_count": 54
        }
      ]
    },
    {
      "cell_type": "code",
      "source": [
        "word = \"hello\"\n",
        "if word == \"hello\":\n",
        "  print(\"Hello, my friend!\")"
      ],
      "metadata": {
        "colab": {
          "base_uri": "https://localhost:8080/"
        },
        "id": "vZRnW-GZ4nnU",
        "outputId": "7968c2d5-5942-4424-e006-d3217ba0724d"
      },
      "execution_count": 55,
      "outputs": [
        {
          "output_type": "stream",
          "name": "stdout",
          "text": [
            "Hello, my friend!\n"
          ]
        }
      ]
    },
    {
      "cell_type": "code",
      "source": [
        "word = \"hello\"\n",
        "if word < \"hello\":\n",
        "  print(\"Your word, \" + word + \", comes before hello.\")\n",
        "elif word > \"hello\":\n",
        "  print(\"Your word, \" + word + \", comes after hello.\")\n",
        "else:\n",
        "  print(\"Hello, my friend!\")"
      ],
      "metadata": {
        "colab": {
          "base_uri": "https://localhost:8080/"
        },
        "id": "-qWPvwgL4xRJ",
        "outputId": "691b33af-2278-459a-c607-4914ebd91b9f"
      },
      "execution_count": 56,
      "outputs": [
        {
          "output_type": "stream",
          "name": "stdout",
          "text": [
            "Hello, my friend!\n"
          ]
        }
      ]
    },
    {
      "cell_type": "code",
      "source": [
        "[5, 10, 15, 20, 25]\n",
        "[\"air\", \"fire\", \"water\", \"earth\"]"
      ],
      "metadata": {
        "colab": {
          "base_uri": "https://localhost:8080/"
        },
        "id": "6tPjnAu25gfG",
        "outputId": "87fb259c-4209-4c0b-e594-234e5e55246d"
      },
      "execution_count": 57,
      "outputs": [
        {
          "output_type": "execute_result",
          "data": {
            "text/plain": [
              "['air', 'fire', 'water', 'earth']"
            ]
          },
          "metadata": {},
          "execution_count": 57
        }
      ]
    },
    {
      "cell_type": "code",
      "source": [
        "[\"hello\", 5.2, 6, [3, 6]]"
      ],
      "metadata": {
        "colab": {
          "base_uri": "https://localhost:8080/"
        },
        "id": "MYmXHOyh5qfZ",
        "outputId": "1cdb8620-71a9-468f-ff0d-bc8d5e1e4449"
      },
      "execution_count": 58,
      "outputs": [
        {
          "output_type": "execute_result",
          "data": {
            "text/plain": [
              "['hello', 5.2, 6, [3, 6]]"
            ]
          },
          "metadata": {},
          "execution_count": 58
        }
      ]
    },
    {
      "cell_type": "code",
      "source": [
        "food = [\"Hamburger\", \"Pizza\", \"Spaghetti\"]\n",
        "ages = [\"11, 16, 18, 21\"]\n",
        "empty = []\n",
        "print(food, ages, empty)\n"
      ],
      "metadata": {
        "colab": {
          "base_uri": "https://localhost:8080/"
        },
        "id": "yaw-m63O5voS",
        "outputId": "6ea95607-9e67-4c07-fba5-7548f326820d"
      },
      "execution_count": 59,
      "outputs": [
        {
          "output_type": "stream",
          "name": "stdout",
          "text": [
            "['Hamburger', 'Pizza', 'Spaghetti'] ['11, 16, 18, 21'] []\n"
          ]
        }
      ]
    },
    {
      "cell_type": "code",
      "source": [
        "a = [1,2,3]\n",
        "b = [4,5,6]\n",
        "c = a + b\n",
        "print(c)"
      ],
      "metadata": {
        "colab": {
          "base_uri": "https://localhost:8080/"
        },
        "id": "JoqRxXqg6Ep6",
        "outputId": "0fa98970-6680-4a4c-dd1e-45ac22063650"
      },
      "execution_count": 60,
      "outputs": [
        {
          "output_type": "stream",
          "name": "stdout",
          "text": [
            "[1, 2, 3, 4, 5, 6]\n"
          ]
        }
      ]
    },
    {
      "cell_type": "code",
      "source": [
        "[1] * 4"
      ],
      "metadata": {
        "colab": {
          "base_uri": "https://localhost:8080/"
        },
        "id": "7brSZ7Up6Kw9",
        "outputId": "a12ee7cb-8e36-479a-a58e-5b41579ce32b"
      },
      "execution_count": 61,
      "outputs": [
        {
          "output_type": "execute_result",
          "data": {
            "text/plain": [
              "[1, 1, 1, 1]"
            ]
          },
          "metadata": {},
          "execution_count": 61
        }
      ]
    },
    {
      "cell_type": "code",
      "source": [
        "[4, 5, 6] * 3"
      ],
      "metadata": {
        "colab": {
          "base_uri": "https://localhost:8080/"
        },
        "id": "SUjQfm3o6N-_",
        "outputId": "f1ed5ff3-a1bd-424a-89e5-bd1013349c19"
      },
      "execution_count": 62,
      "outputs": [
        {
          "output_type": "execute_result",
          "data": {
            "text/plain": [
              "[4, 5, 6, 4, 5, 6, 4, 5, 6]"
            ]
          },
          "metadata": {},
          "execution_count": 62
        }
      ]
    },
    {
      "cell_type": "code",
      "source": [
        "dictionary_1 = dict()\n",
        "print(dictionary_1)"
      ],
      "metadata": {
        "colab": {
          "base_uri": "https://localhost:8080/"
        },
        "id": "nH99wYY36Rd2",
        "outputId": "66810df7-66e6-4a16-c31c-2d250e21d50a"
      },
      "execution_count": 63,
      "outputs": [
        {
          "output_type": "stream",
          "name": "stdout",
          "text": [
            "{}\n"
          ]
        }
      ]
    },
    {
      "cell_type": "code",
      "source": [
        "dictionary_1[\"hello\"] = \"hola\""
      ],
      "metadata": {
        "id": "coT0Y1hL6c2k"
      },
      "execution_count": 64,
      "outputs": []
    },
    {
      "cell_type": "code",
      "source": [
        "print(dictionary_1)\n",
        "{\"hello\" : \"hola\"}"
      ],
      "metadata": {
        "colab": {
          "base_uri": "https://localhost:8080/"
        },
        "id": "O0R4XxBE6hVQ",
        "outputId": "0255571f-6f67-4504-a325-006b4e287b48"
      },
      "execution_count": 65,
      "outputs": [
        {
          "output_type": "stream",
          "name": "stdout",
          "text": [
            "{'hello': 'hola'}\n"
          ]
        },
        {
          "output_type": "execute_result",
          "data": {
            "text/plain": [
              "{'hello': 'hola'}"
            ]
          },
          "metadata": {},
          "execution_count": 65
        }
      ]
    },
    {
      "cell_type": "code",
      "source": [
        "dictionary_1 = {\"hello\": \"hola\", \"goodbye\": \"adios\", \"morning\": \"manana\"}\n",
        "print(dictionary_1)"
      ],
      "metadata": {
        "colab": {
          "base_uri": "https://localhost:8080/"
        },
        "id": "60qRXEjz62PP",
        "outputId": "96a64c3c-9a80-4ece-cc66-06031fd16533"
      },
      "execution_count": 66,
      "outputs": [
        {
          "output_type": "stream",
          "name": "stdout",
          "text": [
            "{'hello': 'hola', 'goodbye': 'adios', 'morning': 'manana'}\n"
          ]
        }
      ]
    },
    {
      "cell_type": "code",
      "source": [
        "print(dictionary_1[\"goodbye\"])"
      ],
      "metadata": {
        "colab": {
          "base_uri": "https://localhost:8080/"
        },
        "id": "PeQVK70p7F8j",
        "outputId": "a2c902c8-e84b-4c7c-b25c-f5b13c5d110d"
      },
      "execution_count": 67,
      "outputs": [
        {
          "output_type": "stream",
          "name": "stdout",
          "text": [
            "adios\n"
          ]
        }
      ]
    },
    {
      "cell_type": "code",
      "source": [
        "len(dictionary_1)"
      ],
      "metadata": {
        "colab": {
          "base_uri": "https://localhost:8080/"
        },
        "id": "i7von2Xj7QDW",
        "outputId": "536cde14-eacc-49b3-b081-51ddaceceba8"
      },
      "execution_count": 68,
      "outputs": [
        {
          "output_type": "execute_result",
          "data": {
            "text/plain": [
              "3"
            ]
          },
          "metadata": {},
          "execution_count": 68
        }
      ]
    },
    {
      "cell_type": "markdown",
      "source": [
        "# Exercises"
      ],
      "metadata": {
        "id": "oulga21eYNcw"
      }
    },
    {
      "cell_type": "markdown",
      "source": [
        "*Exercise 1: Define a statement, an expression and a variable.*"
      ],
      "metadata": {
        "id": "WrbEUVZ_YWRC"
      }
    },
    {
      "cell_type": "markdown",
      "source": [
        "Statement:\n",
        "A statement is a line of code that performs a specific action. It's a complete instruction that can include declarations, assignments, loops, conditionals, etc. Statements are typically terminated with a semicolon (in languages like C, C++, Java) and may include expressions as components.\n",
        "\n",
        "Expression:\n",
        "An expression is a combination of variables, constants, operators, and functions that results in a value. It represents a computation or evaluation and doesn't perform any action on its own. Expressions can be part of statements and can be as simple as a single value or variable or more complex like a mathematical computation.\n",
        "\n",
        "Variable:\n",
        "A variable is a symbol or name that represents a storage location in the computer's memory. It holds a value or reference that can be changed during the program's execution. Variables have a specific type, such as integer, float, string, etc., that determines the kind of data they can store."
      ],
      "metadata": {
        "id": "k1eUu947Ceec"
      }
    },
    {
      "cell_type": "markdown",
      "source": [
        "Exercise 2: Write a program that uses input to ask the user their name and greet them.\n",
        "\n",
        "```\n",
        "Enter your name: Maria\n",
        "Hello, Maria!\n",
        "```\n",
        "\n",
        "\n"
      ],
      "metadata": {
        "id": "vgLjmqVzChdH"
      }
    },
    {
      "cell_type": "code",
      "source": [
        "name = input(\"Enter your name: \")\n",
        "print(\"Hello, \" + name + \"!\")"
      ],
      "metadata": {
        "colab": {
          "base_uri": "https://localhost:8080/"
        },
        "id": "J744vQbMCvyn",
        "outputId": "39461fcb-4b2c-46a6-f15c-51e06caedf3a"
      },
      "execution_count": 70,
      "outputs": [
        {
          "output_type": "stream",
          "name": "stdout",
          "text": [
            "Enter your name: Maria\n",
            "Hello, Maria!\n"
          ]
        }
      ]
    },
    {
      "cell_type": "markdown",
      "source": [
        "Exercise 3: Write a program that computes the following:  If x is greater than z, then print”Congratulations!  x is greater than z”.  If x is smaller than z, print ”Try it another time!  x issmaller than z”.  If x and z are equal, print ”It’s a tie!x and z are equal.”"
      ],
      "metadata": {
        "id": "xL4aObw4C2jx"
      }
    },
    {
      "cell_type": "code",
      "source": [
        "x = float(input(\"Enter the value for x: \"))\n",
        "z = float(input(\"Enter the value for z: \"))\n",
        "\n",
        "if x > z:\n",
        "    print(\"Congratulations! x is greater than z\")\n",
        "elif x < z:\n",
        "    print(\"Try it another time! x is smaller than z\")\n",
        "else:\n",
        "    print(\"It’s a tie! x and z are equal.\")"
      ],
      "metadata": {
        "colab": {
          "base_uri": "https://localhost:8080/"
        },
        "id": "UKkoXnh4DFBN",
        "outputId": "041f6f60-be29-4090-b516-771051c2cf16"
      },
      "execution_count": 71,
      "outputs": [
        {
          "output_type": "stream",
          "name": "stdout",
          "text": [
            "Enter the value for x: 3\n",
            "Enter the value for z: 4\n",
            "Try it another time! x is smaller than z\n"
          ]
        }
      ]
    },
    {
      "cell_type": "markdown",
      "source": [
        "Exercise 4: What  is  the  ”def”  keyword  for  in  Python?  \n",
        "\n",
        "1.   It  indicates  that  the  following indented section is to be stored for later use\n",
        "2.  It indicates the start of a new function\n",
        "3.  It is a slang that means ”the following code is nice”\n",
        "4.  1 and 2 are correct\n",
        "5.  None of the above\n",
        "\n"
      ],
      "metadata": {
        "id": "CvU5v1vCDKai"
      }
    },
    {
      "cell_type": "markdown",
      "source": [
        "ANSWER = 4"
      ],
      "metadata": {
        "id": "LXAehSLzFD0U"
      }
    },
    {
      "cell_type": "markdown",
      "source": [
        "Exercise 5: What will be the output of the following Python program?\n",
        "\n",
        "```\n",
        "def myname():\n",
        "  print(\"Lucia\")\n",
        "def myfriend():\n",
        "  print(\"Fernanda\")\n",
        "\n",
        "\n",
        "INPUT:\n",
        "myfriend()\n",
        "myname()\n",
        "myfriend()\n",
        "\n",
        "```\n",
        "\n",
        "\n"
      ],
      "metadata": {
        "id": "0EpI5ZAzFGaU"
      }
    },
    {
      "cell_type": "markdown",
      "source": [
        "1.  Lucia Fernanda myfriend myname myfriend\n",
        "2.  Lucia Fernanda Lucia\n",
        "3.  Fernanda Lucia myfriend\n",
        "4.  Lucia Lucia Lucia\n",
        "5.  Fernanda Lucia Fernanda\n",
        "\n",
        "\n"
      ],
      "metadata": {
        "id": "f3ZmihviGOdz"
      }
    },
    {
      "cell_type": "markdown",
      "source": [
        "ANSWER = 5"
      ],
      "metadata": {
        "id": "EoxD56P5G3w2"
      }
    },
    {
      "cell_type": "markdown",
      "source": [
        "Exercise 6: Write a program that reads numbers repeatedly until the user enters ”done”.\n",
        "\n",
        "```\n",
        "Enter a number: 5\n",
        "Enter a number: 45\n",
        "Enter a number: hello\n",
        "Invalid input. Please write a number.\n",
        "Enter a number: 6\n",
        "Enter a number: done\n",
        "```\n",
        "\n"
      ],
      "metadata": {
        "id": "cNUufruLG7_d"
      }
    },
    {
      "cell_type": "code",
      "source": [
        "while True:\n",
        "    user_input = input('Enter a number: ')\n",
        "    if user_input.lower() == 'done':\n",
        "        break\n",
        "    try:\n",
        "        number = float(user_input)\n",
        "        # Do something with the number if needed, like storing it in a list\n",
        "    except ValueError:\n",
        "        print('Invalid input. Please write a number.')"
      ],
      "metadata": {
        "colab": {
          "base_uri": "https://localhost:8080/"
        },
        "id": "JsdacTd-Hape",
        "outputId": "b63a018f-cf7a-4abb-a7d0-b809b2f4b212"
      },
      "execution_count": null,
      "outputs": [
        {
          "name": "stdout",
          "output_type": "stream",
          "text": [
            "Enter a number: 5\n",
            "Enter a number: 45\n",
            "Enter a number: hello\n",
            "Invalid input. Please write a number.\n",
            "Enter a number: 6\n",
            "Enter a number: done\n"
          ]
        }
      ]
    },
    {
      "cell_type": "markdown",
      "source": [
        "Exercise 7: Imagine you have this string:  s = ”dshduyhddsnbobobskj”.  Find how many times ”bob” is repeated using string slicing."
      ],
      "metadata": {
        "id": "TEg7wmJHHhKS"
      }
    },
    {
      "cell_type": "code",
      "source": [
        "s = \"dshduyhddsnbobobskj\"\n",
        "count = 0\n",
        "\n",
        "# Using a loop to iterate through the string\n",
        "for i in range(len(s) - 2):\n",
        "  # Slicing the string to get a 3-character substring\n",
        "  if s[i:i+3] == \"bob\":\n",
        "    count += 1\n",
        "\n",
        "print(\"Number of times 'bob' is repeated:\", count)  # Output will be 2"
      ],
      "metadata": {
        "colab": {
          "base_uri": "https://localhost:8080/"
        },
        "id": "21lHFLZBIFMC",
        "outputId": "7f447da1-0b50-48db-94c5-229e344e6f65"
      },
      "execution_count": null,
      "outputs": [
        {
          "output_type": "stream",
          "name": "stdout",
          "text": [
            "Number of times 'bob' is repeated: 2\n"
          ]
        }
      ]
    },
    {
      "cell_type": "markdown",
      "source": [
        "Exercise 8: It is a well known fact that Shakespeare used over 20,000 words in his works allin total.  However, how could you determine that in code?  Let’s use Python for this!  List all unique  words,  sorted  in  alphabetical  order,  that  are  stored  in  a  file romeo.txt containing  asubset of Shakespeare’s work.  To do this efficiently, download a copy of [this file](https://www.py4e.com/code3/romeo.txt).\n"
      ],
      "metadata": {
        "id": "ZfIGvUsgII_d"
      }
    },
    {
      "cell_type": "code",
      "source": [
        "import re\n",
        "\n",
        "def get_unique_words(text):\n",
        "    # Tokenize the text into individual words\n",
        "    words = re.findall(r'\\b\\w+\\b', text.lower())\n",
        "\n",
        "    # Find unique words and sort them alphabetically\n",
        "    unique_words = sorted(set(words))\n",
        "\n",
        "    return unique_words\n",
        "\n",
        "# The text provided\n",
        "text = \"\"\"But soft what light through yonder window breaks\n",
        "It is the east and Juliet is the sun\n",
        "Arise fair sun and kill the envious moon\n",
        "Who is already sick and pale with grief\"\"\"\n",
        "\n",
        "unique_words = get_unique_words(text)\n",
        "print(unique_words)\n"
      ],
      "metadata": {
        "colab": {
          "base_uri": "https://localhost:8080/"
        },
        "id": "05FfXp2XQo4R",
        "outputId": "6b81327d-d356-4159-a19d-8d041f9aea55"
      },
      "execution_count": 23,
      "outputs": [
        {
          "output_type": "stream",
          "name": "stdout",
          "text": [
            "['already', 'and', 'arise', 'breaks', 'but', 'east', 'envious', 'fair', 'grief', 'is', 'it', 'juliet', 'kill', 'light', 'moon', 'pale', 'sick', 'soft', 'sun', 'the', 'through', 'what', 'who', 'window', 'with', 'yonder']\n"
          ]
        }
      ]
    },
    {
      "cell_type": "markdown",
      "source": [
        "# New Section"
      ],
      "metadata": {
        "id": "j6kskhIMGKso"
      }
    },
    {
      "cell_type": "markdown",
      "source": [
        "Exercise 9: Why are functions used?"
      ],
      "metadata": {
        "id": "rpkxrUTVRTwZ"
      }
    },
    {
      "cell_type": "markdown",
      "source": [
        "Functions are used in programming to encapsulate specific tasks, promoting code reusability, modularity, and maintainability. They help in organizing code, making it more readable, and allow for the isolated testing and debugging of individual components."
      ],
      "metadata": {
        "id": "LzngV1tMRqkb"
      }
    },
    {
      "cell_type": "markdown",
      "source": [
        "Exercise 10: What is a dictionary?  Why are they important in Python?"
      ],
      "metadata": {
        "id": "lcJyc2pORYNr"
      }
    },
    {
      "cell_type": "markdown",
      "source": [
        "A dictionary in Python is a mutable, unordered collection of key-value pairs. Here's a succinct definition and explanation of its importance:\n",
        "\n",
        "Dictionary in Python:\n",
        "A data structure that stores items as key-value pairs. Each key must be unique, and keys are used to retrieve their associated values.\n",
        "\n",
        "E.g.\n",
        "\n",
        "```\n",
        "my_dict = {\n",
        "    \"key1\": \"value1\",\n",
        "    \"key2\": \"value2\",\n",
        "    # ... and so on\n",
        "}\n",
        "```\n",
        "\n",
        "Importance in Python:\n",
        "\n",
        "\n",
        "*   Fast Lookup: With keys, values can be fetched quickly regardless of the size of the dictionary.\n",
        "*   Dynamic: Can be altered (i.e., items added, deleted) during runtime.\n",
        "*   Versatile: Keys and values can be of any data type, allowing for great flexibility.\n",
        "*   Foundation for JSON: Dictionary structure closely resembles the JSON data format, making Python dictionaries essential for data interchange and web services.\n",
        "*   Real-world Modelling: Ideal for representing objects or records in real-world scenarios due to its key-value representation.\n",
        "\n",
        "\n",
        "\n",
        "\n",
        "\n"
      ],
      "metadata": {
        "id": "xtR56Bo0STMo"
      }
    }
  ]
}